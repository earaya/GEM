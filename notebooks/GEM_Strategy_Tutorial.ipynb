{
 "cells": [
  {
   "cell_type": "markdown",
   "metadata": {},
   "source": [
    "# GEM Strategy Tutorial\n",
    "\n",
    "This notebook demonstrates how to use the improved GEM (Global Equities Momentum) strategy implementation.\n",
    "\n",
    "## What is GEM?\n",
    "\n",
    "The Global Equities Momentum strategy, developed by Gary Antonacci, combines:\n",
    "- **Absolute Momentum**: Trend-following to avoid bear markets\n",
    "- **Relative Momentum**: Cross-sectional comparison to select the best performing asset\n",
    "\n",
    "The strategy makes monthly allocation decisions based on 12-month momentum indicators."
   ]
  },
  {
   "cell_type": "code",
   "execution_count": null,
   "metadata": {},
   "outputs": [],
   "source": [
    "# Import required libraries\n",
    "import pandas as pd\n",
    "import numpy as np\n",
    "from datetime import datetime, timedelta\n",
    "import warnings\n",
    "warnings.filterwarnings('ignore')\n",
    "\n",
    "# Import GEM strategy components\n",
    "from gem import GemConfig, GlobalEquitiesMomentum\n",
    "from gem.strategy.backtest import Backtester\n",
    "from gem.analysis.metrics import PerformanceMetrics\n",
    "from gem.analysis.visualization import Visualizer"
   ]
  },
  {
   "cell_type": "markdown",
   "metadata": {},
   "source": [
    "## 1. Configuration Setup\n",
    "\n",
    "First, let's set up our configuration with custom parameters:"
   ]
  },
  {
   "cell_type": "code",
   "execution_count": null,
   "metadata": {},
   "outputs": [],
   "source": [
    "# Create configuration\n",
    "config = GemConfig()\n",
    "\n",
    "# Customize strategy parameters\n",
    "config.strategy.lookback_months = 12\n",
    "config.strategy.transaction_cost = 0.001  # 0.1%\n",
    "config.backtest.initial_capital = 10000\n",
    "config.backtest.benchmark_symbol = \"SPY\"\n",
    "\n",
    "# Display configuration\n",
    "print(\"Strategy Configuration:\")\n",
    "print(f\"Lookback Period: {config.strategy.lookback_months} months\")\n",
    "print(f\"Transaction Cost: {config.strategy.transaction_cost:.3%}\")\n",
    "print(f\"Initial Capital: ${config.backtest.initial_capital:,.2f}\")\n",
    "print(f\"Benchmark: {config.backtest.benchmark_symbol}\")\n",
    "\n",
    "print(\"\\nAsset Universe:\")\n",
    "for key, asset in config.assets.items():\n",
    "    print(f\"  {key}: {asset.symbol} - {asset.name}\")"
   ]
  },
  {
   "cell_type": "markdown",
   "metadata": {},
   "source": [
    "## 2. Initialize Strategy and Fetch Data\n",
    "\n",
    "Let's initialize the strategy and fetch historical data:"
   ]
  },
  {
   "cell_type": "code",
   "execution_count": null,
   "metadata": {},
   "outputs": [],
   "source": [
    "# Initialize strategy\n",
    "strategy = GlobalEquitiesMomentum(config)\n",
    "\n",
    "# Set date range for analysis\n",
    "end_date = datetime.now()\n",
    "start_date = end_date - timedelta(days=365 * 5)  # 5 years of data\n",
    "\n",
    "print(f\"Fetching data from {start_date.date()} to {end_date.date()}\")\n",
    "\n",
    "# Fetch data\n",
    "strategy.fetch_data(start_date, end_date)\n",
    "\n",
    "print(\"Data fetching completed!\")\n",
    "print(f\"Available assets: {list(strategy.returns_data.keys())}\")"
   ]
  },
  {
   "cell_type": "markdown",
   "metadata": {},
   "source": [
    "## 3. Current Allocation Recommendation\n",
    "\n",
    "Let's see what the strategy recommends for today:"
   ]
  },
  {
   "cell_type": "code",
   "execution_count": null,
   "metadata": {},
   "outputs": [],
   "source": [
    "# Get current allocation\n",
    "current_date = datetime.now()\n",
    "current_allocation = strategy.calculate_strategy_allocation(current_date)\n",
    "\n",
    "print(f\"🎯 Current Allocation Recommendation ({current_allocation.date.date()})\")\n",
    "print(f\"Signal: {current_allocation.signal.value.upper()}\")\n",
    "print(f\"Primary Asset: {current_allocation.primary_asset}\")\n",
    "\n",
    "print(\"\\n📊 Asset Allocation:\")\n",
    "for asset, weight in current_allocation.allocation.items():\n",
    "    asset_name = config.assets[asset].name\n",
    "    print(f\"  {asset_name}: {weight:.1%}\")\n",
    "\n",
    "print(\"\\n⚡ Momentum Scores:\")\n",
    "for asset, score in current_allocation.momentum_scores.items():\n",
    "    asset_name = config.assets[asset].name\n",
    "    print(f\"  {asset_name}: {score:.2%}\")"
   ]
  },
  {
   "cell_type": "markdown",
   "metadata": {},
   "source": [
    "## 4. Strategy Backtest\n",
    "\n",
    "Now let's run a comprehensive backtest:"
   ]
  },
  {
   "cell_type": "code",
   "execution_count": null,
   "metadata": {},
   "outputs": [],
   "source": [
    "# Initialize backtester\n",
    "backtester = Backtester(config)\n",
    "\n",
    "print(\"Running backtest...\")\n",
    "backtest_results = backtester.run_backtest(\n",
    "    start_date=start_date,\n",
    "    end_date=end_date,\n",
    "    initial_capital=config.backtest.initial_capital\n",
    ")\n",
    "\n",
    "print(\"Backtest completed!\")\n",
    "print(f\"Backtest period: {len(backtest_results)} observations\")\n",
    "print(f\"Final portfolio value: ${backtest_results['total_value'].iloc[-1]:,.2f}\")"
   ]
  },
  {
   "cell_type": "markdown",
   "metadata": {},
   "source": [
    "## 5. Performance Analysis\n",
    "\n",
    "Let's analyze the performance metrics:"
   ]
  },
  {
   "cell_type": "code",
   "execution_count": null,
   "metadata": {},
   "outputs": [],
   "source": [
    "# Get performance metrics\n",
    "metrics = backtester.get_performance_metrics()\n",
    "\n",
    "print(\"📊 PERFORMANCE METRICS\")\n",
    "print(\"=\" * 50)\n",
    "\n",
    "# Format and display key metrics\n",
    "metric_names = {\n",
    "    'total_return': 'Total Return',\n",
    "    'annualized_return': 'Annualized Return',\n",
    "    'volatility': 'Volatility',\n",
    "    'sharpe_ratio': 'Sharpe Ratio',\n",
    "    'max_drawdown': 'Maximum Drawdown',\n",
    "    'win_rate': 'Win Rate',\n",
    "    'final_portfolio_value': 'Final Value'\n",
    "}\n",
    "\n",
    "for key, name in metric_names.items():\n",
    "    if key in metrics:\n",
    "        value = metrics[key]\n",
    "        if 'return' in key or 'drawdown' in key or 'rate' in key:\n",
    "            formatted_value = f\"{value:.2%}\"\n",
    "        elif 'ratio' in key:\n",
    "            formatted_value = f\"{value:.2f}\"\n",
    "        elif 'value' in key:\n",
    "            formatted_value = f\"${value:,.2f}\"\n",
    "        else:\n",
    "            formatted_value = f\"{value:.4f}\"\n",
    "        \n",
    "        print(f\"{name:.<30} {formatted_value}\")"
   ]
  },
  {
   "cell_type": "markdown",
   "metadata": {},
   "source": [
    "## 6. Benchmark Comparison\n",
    "\n",
    "Let's compare our strategy against the benchmark:"
   ]
  },
  {
   "cell_type": "code",
   "execution_count": null,
   "metadata": {},
   "outputs": [],
   "source": [
    "if 'benchmark_return' in backtest_results.columns:\n",
    "    print(\"📈 BENCHMARK COMPARISON\")\n",
    "    print(\"=\" * 40)\n",
    "    \n",
    "    strategy_total = metrics['total_return']\n",
    "    benchmark_total = metrics.get('benchmark_total_return', 0)\n",
    "    \n",
    "    print(f\"Strategy Total Return: {strategy_total:.2%}\")\n",
    "    print(f\"Benchmark Total Return: {benchmark_total:.2%}\")\n",
    "    print(f\"Excess Return: {strategy_total - benchmark_total:.2%}\")\n",
    "    \n",
    "    if 'alpha' in metrics:\n",
    "        print(f\"Alpha: {metrics['alpha']:.2%}\")\n",
    "    if 'information_ratio' in metrics:\n",
    "        print(f\"Information Ratio: {metrics['information_ratio']:.2f}\")\n",
    "else:\n",
    "    print(\"Benchmark comparison not available\")"
   ]
  },
  {
   "cell_type": "markdown",
   "metadata": {},
   "source": [
    "## 7. Visualization\n",
    "\n",
    "Let's create some visualizations to better understand the strategy performance:"
   ]
  },
  {
   "cell_type": "code",
   "execution_count": null,
   "metadata": {},
   "outputs": [],
   "source": [
    "# Initialize visualizer\n",
    "visualizer = Visualizer(config)\n",
    "\n",
    "# Get strategy returns\n",
    "strategy_returns = backtest_results['portfolio_return'].dropna()\n",
    "benchmark_returns = backtest_results.get('benchmark_return')\n",
    "\n",
    "# Create cumulative returns chart\n",
    "returns_data = {'GEM Strategy': strategy_returns}\n",
    "if benchmark_returns is not None:\n",
    "    returns_data['Benchmark (SPY)'] = benchmark_returns.dropna()\n",
    "\n",
    "cumulative_returns_fig = visualizer.plot_cumulative_returns(\n",
    "    returns_data,\n",
    "    title=\"GEM Strategy vs Benchmark - Cumulative Returns\",\n",
    "    show_drawdown=True\n",
    ")\n",
    "\n",
    "cumulative_returns_fig.show()"
   ]
  },
  {
   "cell_type": "code",
   "execution_count": null,
   "metadata": {},
   "outputs": [],
   "source": [
    "# Create allocation timeline\n",
    "allocation_df = strategy.run_strategy(start_date, end_date)\n",
    "\n",
    "allocation_fig = visualizer.plot_allocation_timeline(\n",
    "    allocation_df,\n",
    "    title=\"Asset Allocation Over Time\"\n",
    ")\n",
    "\n",
    "allocation_fig.show()"
   ]
  },
  {
   "cell_type": "code",
   "execution_count": null,
   "metadata": {},
   "outputs": [],
   "source": [
    "# Create rolling metrics chart\n",
    "rolling_fig = visualizer.plot_rolling_metrics(\n",
    "    strategy_returns,\n",
    "    metrics=['return', 'volatility', 'sharpe'],\n",
    "    window=12,  # 12-month rolling window\n",
    "    title=\"Rolling Performance Metrics (12-Month Window)\"\n",
    ")\n",
    "\n",
    "rolling_fig.show()"
   ]
  },
  {
   "cell_type": "markdown",
   "metadata": {},
   "source": [
    "## 8. Risk Analysis\n",
    "\n",
    "Let's perform a detailed risk analysis:"
   ]
  },
  {
   "cell_type": "code",
   "execution_count": null,
   "metadata": {},
   "outputs": [],
   "source": [
    "# Initialize performance metrics calculator\n",
    "perf_metrics = PerformanceMetrics(risk_free_rate=config.backtest.risk_free_rate)\n",
    "\n",
    "# Calculate comprehensive risk metrics\n",
    "risk_metrics = perf_metrics.calculate_risk_metrics(strategy_returns)\n",
    "\n",
    "print(\"🚨 RISK ANALYSIS\")\n",
    "print(\"=\" * 30)\n",
    "\n",
    "print(f\"Maximum Drawdown: {risk_metrics['max_drawdown']:.2%}\")\n",
    "print(f\"Average Drawdown: {risk_metrics['avg_drawdown']:.2%}\")\n",
    "print(f\"VaR (95%): {risk_metrics['value_at_risk']['95%']:.2%}\")\n",
    "print(f\"CVaR (95%): {risk_metrics['conditional_var']['95%']:.2%}\")\n",
    "print(f\"Calmar Ratio: {risk_metrics['calmar_ratio']:.2f}\")\n",
    "print(f\"Skewness: {risk_metrics['skewness']:.2f}\")\n",
    "print(f\"Kurtosis: {risk_metrics['kurtosis']:.2f}\")"
   ]
  },
  {
   "cell_type": "code",
   "execution_count": null,
   "metadata": {},
   "outputs": [],
   "source": [
    "# Create monthly returns heatmap\n",
    "heatmap_fig = visualizer.plot_monthly_returns_heatmap(\n",
    "    strategy_returns,\n",
    "    title=\"Monthly Returns Heatmap\"\n",
    ")\n",
    "\n",
    "heatmap_fig.show()"
   ]
  },
  {
   "cell_type": "markdown",
   "metadata": {},
   "source": [
    "## 9. Strategy Summary\n",
    "\n",
    "Let's get a summary of the strategy decisions:"
   ]
  },
  {
   "cell_type": "code",
   "execution_count": null,
   "metadata": {},
   "outputs": [],
   "source": [
    "# Get strategy performance summary\n",
    "strategy_summary = strategy.get_performance_summary()\n",
    "\n",
    "print(\"📋 STRATEGY SUMMARY\")\n",
    "print(\"=\" * 35)\n",
    "\n",
    "print(f\"Total Decisions: {strategy_summary['total_decisions']}\")\n",
    "print(f\"Bullish Signals: {strategy_summary['bullish_signals']} ({strategy_summary['bullish_percentage']:.1f}%)\")\n",
    "print(f\"Bearish Signals: {strategy_summary['bearish_signals']}\")\n",
    "\n",
    "print(\"\\n🎯 Asset Selection Frequency:\")\n",
    "for asset, count in strategy_summary['asset_counts'].items():\n",
    "    asset_name = config.assets[asset].name\n",
    "    percentage = (count / strategy_summary['total_decisions']) * 100\n",
    "    print(f\"  {asset_name}: {count} times ({percentage:.1f}%)\")"
   ]
  },
  {
   "cell_type": "markdown",
   "metadata": {},
   "source": [
    "## 10. Export Results\n",
    "\n",
    "Finally, let's export our results for further analysis:"
   ]
  },
  {
   "cell_type": "code",
   "execution_count": null,
   "metadata": {},
   "outputs": [],
   "source": [
    "# Export backtest results\n",
    "output_file = config.output_directory / \"gem_backtest_results.csv\"\n",
    "backtest_results.to_csv(output_file)\n",
    "print(f\"📄 Backtest results saved to: {output_file}\")\n",
    "\n",
    "# Export allocation decisions\n",
    "allocation_file = config.output_directory / \"gem_allocations.csv\"\n",
    "allocation_df.to_csv(allocation_file)\n",
    "print(f\"📄 Allocation decisions saved to: {allocation_file}\")\n",
    "\n",
    "# Save performance dashboard\n",
    "dashboard_fig = visualizer.create_performance_dashboard(\n",
    "    strategy_returns=strategy_returns,\n",
    "    benchmark_returns=benchmark_returns,\n",
    "    allocation_df=allocation_df\n",
    ")\n",
    "\n",
    "visualizer.save_figure(dashboard_fig, \"gem_performance_dashboard\", \"html\")\n",
    "print(f\"📊 Performance dashboard saved to: {config.output_directory / 'gem_performance_dashboard.html'}\")"
   ]
  },
  {
   "cell_type": "markdown",
   "metadata": {},
   "source": [
    "## Conclusion\n",
    "\n",
    "This tutorial demonstrated the key features of the improved GEM strategy implementation:\n",
    "\n",
    "- **Easy Configuration**: Customizable parameters for different scenarios\n",
    "- **Robust Data Handling**: Automatic data fetching with error handling\n",
    "- **Comprehensive Analysis**: Detailed performance and risk metrics\n",
    "- **Professional Visualization**: Interactive charts for better insights\n",
    "- **Export Capabilities**: Easy data export for further analysis\n",
    "\n",
    "The GEM strategy provides a systematic approach to momentum investing with built-in risk management through defensive asset allocation during unfavorable market conditions.\n",
    "\n",
    "### Next Steps\n",
    "\n",
    "1. **Experiment with Parameters**: Try different lookback periods and transaction costs\n",
    "2. **Add Custom Assets**: Include additional ETFs or asset classes\n",
    "3. **Extend the Analysis**: Compare with other momentum strategies\n",
    "4. **Real-time Implementation**: Use the CLI for ongoing portfolio management\n",
    "\n",
    "---\n",
    "\n",
    "**⚠️ Disclaimer**: This is for educational purposes only. Past performance does not guarantee future results. Please consult with a financial advisor before making investment decisions."
   ]
  }
 ],
 "metadata": {
  "kernelspec": {
   "display_name": "Python 3",
   "language": "python",
   "name": "python3"
  },
  "language_info": {
   "codemirror_mode": {
    "name": "ipython",
    "version": 3
   },
   "file_extension": ".py",
   "mimetype": "text/x-python",
   "name": "python",
   "nbconvert_exporter": "python",
   "pygments_lexer": "ipython3",
   "version": "3.9.0"
  }
 },
 "nbformat": 4,
 "nbformat_minor": 4
}